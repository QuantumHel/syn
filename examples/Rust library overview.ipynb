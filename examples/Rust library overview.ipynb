{
 "cells": [
  {
   "cell_type": "markdown",
   "id": "995cd1ee-bbe3-485f-9f7f-0e080aeb56b8",
   "metadata": {},
   "source": [
    "# Introductory tutorial for the synIR library and its python bindings\n",
    "Welcome to the synIR (/ˈsɪnɚ/) library!\n",
    "\n",
    "This jupyter notebook showcases the basic usage of our quantum compilation library."
   ]
  },
  {
   "cell_type": "markdown",
   "id": "1a866fba",
   "metadata": {},
   "source": [
    "## Library overview\n",
    "This compilation library is a rust-based library with python bindings. \n",
    "\n",
    "synIR stands for SYNthesizable Intermediate Representation. Unlike gate-based intermediate representations (e.g. QIR), the library represents quantum circuits as sequences of exponentiated Paulistrings and a Clifford tableau $A$: \n",
    "\n",
    "$$U = A\\Pi (\\Pi_{P \\in \\{I, X, Y, Z\\}^N} e^{-\\alpha P})$$\n",
    "\n",
    "Here, the inner product of $e^{-\\alpha P}$ is assumed to be mutually commuting. This assumption helps optimize circuits resulting from a trotterization process in exchange for a potential increase of the Trotter Error."
   ]
  },
  {
   "cell_type": "markdown",
   "id": "936dcffd",
   "metadata": {},
   "source": [
    "### Lexicon\n",
    "Since there are some conflicting terminology in literature, we will define what we mean by some of these terms here in alphabetical order.\n",
    "\n",
    "**Pauli Exponential** is the universal representation that we use in the library, it contains a Clifford tableau and a sequence of Pauli Polynomials. An exponential is a product and since the product of matrices is not commutative, the sequences in the Pauli Exponential do not commute.\n",
    "\n",
    "**Pauliletter** is the letter by which we refer to any of the four Pauli matrices: $I$, $X$, $Y$, and $Z$.\n",
    "\n",
    "**Pauli Polynomial** is the subsequence of Paulistrings in the Pauli Exponential that we assume to be mutually commuting. An example of this is the Phase Polynomial, which is a Pauli Polynomial consisting only of I and Z Pauliletters. The naming scheme is analogous to the Phase Polynomial. Similarly, a polynomial contains a sum of terms and since the sum of matrices is commutative, the terms in the Pauli Polynomial should also commute.\n",
    "\n",
    "**Paulistring** is a sequence of Pauli letters representing the tensor product of the respective Pauli matrices.\n"
   ]
  },
  {
   "cell_type": "markdown",
   "id": "39e8ad17",
   "metadata": {},
   "source": [
    "## Basic data structures"
   ]
  },
  {
   "cell_type": "code",
   "execution_count": null,
   "id": "8450a288",
   "metadata": {
    "vscode": {
     "languageId": "rust"
    }
   },
   "outputs": [],
   "source": [
    ":dep syn = { path = \"../.\" } // If you run the syn package locally"
   ]
  },
  {
   "cell_type": "code",
   "execution_count": null,
   "id": "38e416d0",
   "metadata": {
    "vscode": {
     "languageId": "rust"
    }
   },
   "outputs": [],
   "source": [
    "use syn::data_structures::{PauliString, PauliPolynomial, CliffordTableau}\n",
    "use syn::ir::pauli_exponential::PauliExponential"
   ]
  },
  {
   "cell_type": "code",
   "execution_count": 3,
   "id": "ccbfc999-681a-4083-96a8-9b8b35fa4ade",
   "metadata": {
    "vscode": {
     "languageId": "rust"
    }
   },
   "outputs": [
    {
     "name": "stdout",
     "output_type": "stream",
     "text": [
      "I X Y Z\n"
     ]
    }
   ],
   "source": [
    "let pauli_string = \"IXYZ\";\n",
    "let paulivec = PauliString::from_text(pauli_string);\n",
    "\n",
    "println!(\"{}\", paulivec);"
   ]
  },
  {
   "cell_type": "code",
   "execution_count": 4,
   "id": "4987d78f",
   "metadata": {
    "vscode": {
     "languageId": "rust"
    }
   },
   "outputs": [
    {
     "name": "stdout",
     "output_type": "stream",
     "text": [
      "Pauli Polynomial size:4 qubits x 3 terms\n",
      " | 0.3 0.7 0.12  | \n",
      "QB0 | I X Y |\n",
      "QB1 | X X Y |\n",
      "QB2 | Y I I |\n",
      "QB3 | Z I I |\n"
     ]
    },
    {
     "data": {
      "text/plain": [
       "()"
      ]
     },
     "execution_count": 4,
     "metadata": {},
     "output_type": "execute_result"
    }
   ],
   "source": [
    "let ham = vec![(\"IXYZ\", 0.3), (\"XXII\", 0.7), (\"YYII\", 0.12)];\n",
    "let pp = PauliPolynomial::from_hamiltonian(ham);\n",
    "//println!(\"{}\", pp); // WIP\n",
    "\n",
    "println!(\"Pauli Polynomial size:{} qubits x {} terms\", pp.size(), pp.length());\n",
    "\n",
    "print!(\" | \");\n",
    "for i in 0..pp.length(){\n",
    "    print!(\"{} \", pp.angle(i));\n",
    "}\n",
    "println!(\" | \");\n",
    "for i in 0..pp.size(){\n",
    "    println!(\"QB{} | {} |\", i, pp.chains()[i]);\n",
    "}"
   ]
  },
  {
   "cell_type": "code",
   "execution_count": 5,
   "id": "2b395afb",
   "metadata": {
    "vscode": {
     "languageId": "rust"
    }
   },
   "outputs": [],
   "source": [
    "use syn::data_structures::PropagateClifford; // Would be nice if this was not needed when importing CliffordTableau"
   ]
  },
  {
   "cell_type": "code",
   "execution_count": 6,
   "id": "2ae4557a",
   "metadata": {
    "vscode": {
     "languageId": "rust"
    }
   },
   "outputs": [
    {
     "name": "stdout",
     "output_type": "stream",
     "text": [
      "CliffordTableau(4)\n",
      "X I I I Z I I I\n",
      "I X I I I Z I I\n",
      "I I X I I I Z I\n",
      "I I I X I I I Z\n",
      "+ + + + + + + +\n",
      "\n",
      "After an V gate:\n",
      "CliffordTableau(4)\n",
      "X I I I Z I I I\n",
      "I X I I I Y I I\n",
      "I I X I I I Z I\n",
      "I I I X I I I Z\n",
      "+ + + + + - + +\n",
      "\n",
      "After an V gate:\n",
      "CliffordTableau(4)\n",
      "X I I I Z I I I\n",
      "I X I I I Z I I\n",
      "I I X I I I Z I\n",
      "I I I X I I I Z\n",
      "+ + + + + - + +\n"
     ]
    }
   ],
   "source": [
    "let mut ct = CliffordTableau::new(4);\n",
    "println!(\"{}\", ct);\n",
    "ct.v(1);\n",
    "\n",
    "println!(\"\\nAfter an V gate:\\n{}\", ct);\n",
    "ct.v(1);\n",
    "\n",
    "println!(\"\\nAfter an V gate:\\n{}\", ct);"
   ]
  },
  {
   "cell_type": "markdown",
   "id": "0a42392d",
   "metadata": {},
   "source": [
    "## A Toffoli gate example"
   ]
  },
  {
   "cell_type": "code",
   "execution_count": 7,
   "id": "58e7f80f",
   "metadata": {
    "vscode": {
     "languageId": "rust"
    }
   },
   "outputs": [],
   "source": [
    "let angles = [0.25, 0.25, 0.25, -0.25, -0.25, -0.25, 0.25];\n",
    "let mut ccz_ham = vec![\"ZII\", \"IZI\", \"IIZ\", \"ZZI\", \"ZIZ\", \"IZZ\", \"ZZZ\"];\n",
    "let mut ccz_pp = PauliPolynomial::from_hamiltonian(ccz_ham.iter().copied().zip(angles).collect());\n",
    "let mut ccz_ct = CliffordTableau::new(3);\n",
    "ccz_ct.h(2); // Add the final H around the CCZ\n",
    "// Add the first H before the CCZ\n",
    "ccz_pp.h(2);\n",
    "ccz_ct.h(2);\n",
    "let toffoli = PauliExponential::new(std::collections::VecDeque::from([ccz_pp]), ccz_ct); \n",
    "//toffoli.h(2); // This does not work yet, so we do this to the separate parts, so we did this earlier.\n",
    "//toffoli // Does not work yet before visualization"
   ]
  },
  {
   "cell_type": "markdown",
   "id": "9b1bb2df",
   "metadata": {},
   "source": [
    "### Define a circuit class because our rust code does not have one"
   ]
  },
  {
   "cell_type": "code",
   "execution_count": 8,
   "id": "05fc5625",
   "metadata": {
    "vscode": {
     "languageId": "rust"
    }
   },
   "outputs": [],
   "source": [
    "use syn::ir::{CliffordGates, Gates};"
   ]
  },
  {
   "cell_type": "code",
   "execution_count": 9,
   "id": "92c93083",
   "metadata": {
    "vscode": {
     "languageId": "rust"
    }
   },
   "outputs": [],
   "source": [
    "type Angle = f64;\n",
    "#[derive(Debug, Default)]\n",
    "pub struct MockCircuit {\n",
    "    commands: Vec<MockCommand>,\n",
    "}\n",
    "\n",
    "#[derive(Debug, PartialEq)]\n",
    "pub enum MockCommand {\n",
    "    CX(syn::IndexType, syn::IndexType),\n",
    "    CZ(syn::IndexType, syn::IndexType),\n",
    "    X(syn::IndexType),\n",
    "    Y(syn::IndexType),\n",
    "    Z(syn::IndexType),\n",
    "    H(syn::IndexType),\n",
    "    S(syn::IndexType),\n",
    "    V(syn::IndexType),\n",
    "    SDgr(syn::IndexType),\n",
    "    VDgr(syn::IndexType),\n",
    "    Rx(syn::IndexType, Angle),\n",
    "    Ry(syn::IndexType, Angle),\n",
    "    Rz(syn::IndexType, Angle),\n",
    "}\n",
    "\n",
    "impl MockCircuit {\n",
    "    pub fn new() -> Self {\n",
    "        Self {\n",
    "            commands: Vec::new(),\n",
    "        }\n",
    "    }\n",
    "    pub fn commands(&self) -> &Vec<MockCommand> {\n",
    "        &self.commands\n",
    "    }\n",
    "}\n",
    "\n",
    "impl CliffordGates for MockCircuit {\n",
    "    fn s(&mut self, target: syn::IndexType) {\n",
    "        self.commands.push(MockCommand::S(target));\n",
    "    }\n",
    "\n",
    "    fn v(&mut self, target: syn::IndexType) {\n",
    "        self.commands.push(MockCommand::V(target));\n",
    "    }\n",
    "\n",
    "    fn s_dgr(&mut self, target: syn::IndexType) {\n",
    "        self.commands.push(MockCommand::SDgr(target));\n",
    "    }\n",
    "\n",
    "    fn v_dgr(&mut self, target: syn::IndexType) {\n",
    "        self.commands.push(MockCommand::VDgr(target));\n",
    "    }\n",
    "\n",
    "    fn x(&mut self, target: syn::IndexType) {\n",
    "        self.commands.push(MockCommand::X(target));\n",
    "    }\n",
    "\n",
    "    fn y(&mut self, target: syn::IndexType) {\n",
    "        self.commands.push(MockCommand::Y(target));\n",
    "    }\n",
    "\n",
    "    fn z(&mut self, target: syn::IndexType) {\n",
    "        self.commands.push(MockCommand::Z(target));\n",
    "    }\n",
    "\n",
    "    fn h(&mut self, target: syn::IndexType) {\n",
    "        self.commands.push(MockCommand::H(target));\n",
    "    }\n",
    "\n",
    "    fn cx(&mut self, control: syn::IndexType, target: syn::IndexType) {\n",
    "        self.commands.push(MockCommand::CX(control, target));\n",
    "    }\n",
    "\n",
    "    fn cz(&mut self, control: syn::IndexType, target: syn::IndexType) {\n",
    "        self.commands.push(MockCommand::CZ(control, target));\n",
    "    }\n",
    "}\n",
    "\n",
    "impl Gates for MockCircuit {\n",
    "    fn rx(&mut self, target: syn::IndexType, angle: Angle) {\n",
    "        self.commands.push(MockCommand::Rx(target, angle));\n",
    "    }\n",
    "\n",
    "    fn ry(&mut self, target: syn::IndexType, angle: Angle) {\n",
    "        self.commands.push(MockCommand::Ry(target, angle));\n",
    "    }\n",
    "\n",
    "    fn rz(&mut self, target: syn::IndexType, angle: Angle) {\n",
    "        self.commands.push(MockCommand::Rz(target, angle));\n",
    "    }\n",
    "}\n"
   ]
  },
  {
   "cell_type": "markdown",
   "id": "89e1ef50",
   "metadata": {},
   "source": [
    "### Synthesize the circuit"
   ]
  },
  {
   "cell_type": "code",
   "execution_count": 10,
   "id": "ced385fa",
   "metadata": {
    "vscode": {
     "languageId": "rust"
    }
   },
   "outputs": [],
   "source": [
    "use syn::ir::pauli_exponential::PauliExponentialSynthesizer;\n",
    "use syn::ir::clifford_tableau::CliffordTableauSynthStrategy;\n",
    "use syn::ir::pauli_polynomial::PauliPolynomialSynthStrategy;\n",
    "use syn::ir::Synthesizer;"
   ]
  },
  {
   "cell_type": "code",
   "execution_count": 11,
   "id": "4afc9c94",
   "metadata": {
    "vscode": {
     "languageId": "rust"
    }
   },
   "outputs": [
    {
     "data": {
      "text/plain": [
       "MockCircuit { commands: [Rz(0, 0.25), Rz(1, 0.25), H(2), Rz(2, 0.25), CX(0, 1), Rz(1, -0.25), CX(0, 2), Rz(2, -0.25), CX(1, 2), Rz(2, -0.25), CX(0, 2), Rz(2, 0.25), CX(0, 1), CX(0, 2), CX(1, 2), H(2)] }"
      ]
     },
     "execution_count": 11,
     "metadata": {},
     "output_type": "execute_result"
    }
   ],
   "source": [
    "let mut circuit = MockCircuit::new();\n",
    "let mut synthesizer = PauliExponentialSynthesizer::from_strategy(\n",
    "    PauliPolynomialSynthStrategy::Naive,\n",
    "    CliffordTableauSynthStrategy::Naive,\n",
    ");\n",
    "synthesizer.synthesize(toffoli, &mut circuit);\n",
    "circuit"
   ]
  },
  {
   "cell_type": "markdown",
   "id": "9500bf03",
   "metadata": {},
   "source": [
    "## FAQ\n",
    "\n",
    "### How do I make a circuit?\n",
    "You don't. \n",
    "\n",
    "The rust part of the library does not have a notion of quantum circuit and this is by design. The only data structure that contains what the quantum program does is our intermediate representation. That intermediate representation can consume gates and generate gates in a way that is defined by the `PropagateClifford`, `MaskedPropagateClifford`, `Synthesizer`, and `AdjointSynthesizer` traits.\n",
    "\n",
    "Circuits are a concept that are practically needed for integration, so we translate circuit classes from external libraries directly to our intermediate representation without relyin on an internal definition for a circuit. "
   ]
  },
  {
   "cell_type": "markdown",
   "id": "f1ed838a",
   "metadata": {},
   "source": [
    "# Future plans\n",
    "This library is still under construction. If you are looking for specific features that are not yet implemented, please make an issue on the Github page.\n",
    "\n",
    "Our next plans include, but are not limited to:\n",
    "- Implement the PSGS algorithm for Pauli Polynomial synthesis\n",
    "- Improve Qiskit transpiler integration\n",
    "- Circuit-to-PauliExponential parser for generic circuits\n",
    "- Improve code structure, package structure, and code style"
   ]
  },
  {
   "cell_type": "markdown",
   "id": "95877799",
   "metadata": {},
   "source": [
    "# Continue reading\n",
    "i.e. references\n",
    "\n",
    "1. Huang, Q., Winderl, D., Meijer-Van De Griend, A., & Yeung, R. (2024, September). Redefining Lexicographical Ordering: Optimizing Pauli String Decompositions for Quantum Compiling. In 2024 IEEE International Conference on Quantum Computing and Engineering (QCE) (Vol. 1, pp. 885-896). IEEE. [PDF](https://ieeexplore.ieee.org/stamp/stamp.jsp?tp=&arnumber=10821336)\n",
    "1. Winderl, D., Huang, Q., de Griend, A. M. V., & Yeung, R. (2023). Architecture-aware synthesis of stabilizer circuits from clifford tableaus. arXiv preprint arXiv:2309.08972. [PDF](https://arxiv.org/pdf/2309.08972)\n",
    "1. Meijer–van de Griend, A. (2024). Advances in Quantum Compilation in the NISQ Era (Doctoral dissertation, Doctoral dissertation, University of Helsinki). [PDF](http://hdl.handle.net/10138/569455)\n",
    "1. Meijer-van de Griend, A. (2025). A comparison of quantum compilers using a DAG-based or phase polynomial-based intermediate representation. Journal of Systems and Software, 221, 112224. [PDF](https://www.sciencedirect.com/science/article/pii/S0164121224002681)\n",
    "1. Meijer-Van De Griend, A. (2024, March). The Quantum Circuit Model is not a Practical Representation of Quantum Software. In 2024 IEEE International Conference on Software Analysis, Evolution and Reengineering-Companion (SANER-C) (pp. 146-148). IEEE. [PDF](https://ieeexplore.ieee.org/stamp/stamp.jsp?arnumber=10621734)\n",
    "1. Cowtan, A., Dilkes, S., Duncan, R., Simmons, W., & Sivarajah, S. (2019). Phase gadget synthesis for shallow circuits. arXiv preprint arXiv:1906.01734. [PDF](https://arxiv.org/pdf/1906.01734)\n",
    "1. Perkkola, F., Salmeperä, I., de Griend, A. M. V., Wang, C. C. J., Bennink, R. S., & Nurminen, J. K. (2025). Optimizing State Preparation for Variational Quantum Regression on NISQ Hardware. arXiv preprint arXiv:2505.17713. [PDF](https://arxiv.org/pdf/2505.17713)\n",
    "\n"
   ]
  }
 ],
 "metadata": {
  "kernelspec": {
   "display_name": "Rust",
   "language": "rust",
   "name": "rust"
  },
  "language_info": {
   "codemirror_mode": "rust",
   "file_extension": ".rs",
   "mimetype": "text/rust",
   "name": "Rust",
   "pygment_lexer": "rust",
   "version": ""
  }
 },
 "nbformat": 4,
 "nbformat_minor": 5
}
